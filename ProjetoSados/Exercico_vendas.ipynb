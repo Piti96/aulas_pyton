{
 "cells": [
  {
   "cell_type": "code",
   "execution_count": 2,
   "metadata": {},
   "outputs": [],
   "source": [
    "import pandas as pd \n",
    "import matplotlib as plt"
   ]
  },
  {
   "cell_type": "code",
   "execution_count": 4,
   "metadata": {},
   "outputs": [
    {
     "data": {
      "text/html": [
       "<div>\n",
       "<style scoped>\n",
       "    .dataframe tbody tr th:only-of-type {\n",
       "        vertical-align: middle;\n",
       "    }\n",
       "\n",
       "    .dataframe tbody tr th {\n",
       "        vertical-align: top;\n",
       "    }\n",
       "\n",
       "    .dataframe thead th {\n",
       "        text-align: right;\n",
       "    }\n",
       "</style>\n",
       "<table border=\"1\" class=\"dataframe\">\n",
       "  <thead>\n",
       "    <tr style=\"text-align: right;\">\n",
       "      <th></th>\n",
       "      <th>data_venda</th>\n",
       "      <th>produto</th>\n",
       "      <th>quantidade</th>\n",
       "      <th>valor_unitario</th>\n",
       "      <th>regiao</th>\n",
       "    </tr>\n",
       "  </thead>\n",
       "  <tbody>\n",
       "    <tr>\n",
       "      <th>0</th>\n",
       "      <td>2022-01-29</td>\n",
       "      <td>Carne</td>\n",
       "      <td>7</td>\n",
       "      <td>87.91</td>\n",
       "      <td>Sul</td>\n",
       "    </tr>\n",
       "    <tr>\n",
       "      <th>1</th>\n",
       "      <td>2022-01-14</td>\n",
       "      <td>Feijão</td>\n",
       "      <td>47</td>\n",
       "      <td>62.33</td>\n",
       "      <td>Norte</td>\n",
       "    </tr>\n",
       "    <tr>\n",
       "      <th>2</th>\n",
       "      <td>2022-01-20</td>\n",
       "      <td>Açúcar</td>\n",
       "      <td>39</td>\n",
       "      <td>77.20</td>\n",
       "      <td>Nordeste</td>\n",
       "    </tr>\n",
       "    <tr>\n",
       "      <th>3</th>\n",
       "      <td>2022-01-10</td>\n",
       "      <td>Açúcar</td>\n",
       "      <td>47</td>\n",
       "      <td>74.38</td>\n",
       "      <td>Nordeste</td>\n",
       "    </tr>\n",
       "    <tr>\n",
       "      <th>4</th>\n",
       "      <td>2022-01-3</td>\n",
       "      <td>Óleo</td>\n",
       "      <td>39</td>\n",
       "      <td>34.65</td>\n",
       "      <td>Nordeste</td>\n",
       "    </tr>\n",
       "    <tr>\n",
       "      <th>...</th>\n",
       "      <td>...</td>\n",
       "      <td>...</td>\n",
       "      <td>...</td>\n",
       "      <td>...</td>\n",
       "      <td>...</td>\n",
       "    </tr>\n",
       "    <tr>\n",
       "      <th>995</th>\n",
       "      <td>2022-01-21</td>\n",
       "      <td>Carne</td>\n",
       "      <td>39</td>\n",
       "      <td>85.07</td>\n",
       "      <td>Sul</td>\n",
       "    </tr>\n",
       "    <tr>\n",
       "      <th>996</th>\n",
       "      <td>2022-01-5</td>\n",
       "      <td>Arroz</td>\n",
       "      <td>37</td>\n",
       "      <td>98.93</td>\n",
       "      <td>Nordeste</td>\n",
       "    </tr>\n",
       "    <tr>\n",
       "      <th>997</th>\n",
       "      <td>2022-01-10</td>\n",
       "      <td>Macarrão</td>\n",
       "      <td>28</td>\n",
       "      <td>38.50</td>\n",
       "      <td>Centro-Oeste</td>\n",
       "    </tr>\n",
       "    <tr>\n",
       "      <th>998</th>\n",
       "      <td>2022-01-4</td>\n",
       "      <td>Feijão</td>\n",
       "      <td>45</td>\n",
       "      <td>96.34</td>\n",
       "      <td>Centro-Oeste</td>\n",
       "    </tr>\n",
       "    <tr>\n",
       "      <th>999</th>\n",
       "      <td>2022-01-12</td>\n",
       "      <td>Feijão</td>\n",
       "      <td>15</td>\n",
       "      <td>43.27</td>\n",
       "      <td>Sudeste</td>\n",
       "    </tr>\n",
       "  </tbody>\n",
       "</table>\n",
       "<p>1000 rows × 5 columns</p>\n",
       "</div>"
      ],
      "text/plain": [
       "     data_venda   produto  quantidade  valor_unitario        regiao\n",
       "0    2022-01-29     Carne           7           87.91           Sul\n",
       "1    2022-01-14    Feijão          47           62.33         Norte\n",
       "2    2022-01-20    Açúcar          39           77.20      Nordeste\n",
       "3    2022-01-10    Açúcar          47           74.38      Nordeste\n",
       "4     2022-01-3      Óleo          39           34.65      Nordeste\n",
       "..          ...       ...         ...             ...           ...\n",
       "995  2022-01-21     Carne          39           85.07           Sul\n",
       "996   2022-01-5     Arroz          37           98.93      Nordeste\n",
       "997  2022-01-10  Macarrão          28           38.50  Centro-Oeste\n",
       "998   2022-01-4    Feijão          45           96.34  Centro-Oeste\n",
       "999  2022-01-12    Feijão          15           43.27       Sudeste\n",
       "\n",
       "[1000 rows x 5 columns]"
      ]
     },
     "execution_count": 4,
     "metadata": {},
     "output_type": "execute_result"
    }
   ],
   "source": [
    "df = pd.read_csv(\"dados_vendas.csv\")\n",
    "df"
   ]
  },
  {
   "cell_type": "code",
   "execution_count": 5,
   "metadata": {},
   "outputs": [
    {
     "data": {
      "text/html": [
       "<div>\n",
       "<style scoped>\n",
       "    .dataframe tbody tr th:only-of-type {\n",
       "        vertical-align: middle;\n",
       "    }\n",
       "\n",
       "    .dataframe tbody tr th {\n",
       "        vertical-align: top;\n",
       "    }\n",
       "\n",
       "    .dataframe thead th {\n",
       "        text-align: right;\n",
       "    }\n",
       "</style>\n",
       "<table border=\"1\" class=\"dataframe\">\n",
       "  <thead>\n",
       "    <tr style=\"text-align: right;\">\n",
       "      <th></th>\n",
       "      <th>data_venda</th>\n",
       "      <th>produto</th>\n",
       "      <th>quantidade</th>\n",
       "      <th>valor_unitario</th>\n",
       "      <th>regiao</th>\n",
       "    </tr>\n",
       "  </thead>\n",
       "  <tbody>\n",
       "    <tr>\n",
       "      <th>0</th>\n",
       "      <td>2022-01-29</td>\n",
       "      <td>Carne</td>\n",
       "      <td>7</td>\n",
       "      <td>87.91</td>\n",
       "      <td>Sul</td>\n",
       "    </tr>\n",
       "    <tr>\n",
       "      <th>1</th>\n",
       "      <td>2022-01-14</td>\n",
       "      <td>Feijão</td>\n",
       "      <td>47</td>\n",
       "      <td>62.33</td>\n",
       "      <td>Norte</td>\n",
       "    </tr>\n",
       "    <tr>\n",
       "      <th>2</th>\n",
       "      <td>2022-01-20</td>\n",
       "      <td>Açúcar</td>\n",
       "      <td>39</td>\n",
       "      <td>77.20</td>\n",
       "      <td>Nordeste</td>\n",
       "    </tr>\n",
       "    <tr>\n",
       "      <th>3</th>\n",
       "      <td>2022-01-10</td>\n",
       "      <td>Açúcar</td>\n",
       "      <td>47</td>\n",
       "      <td>74.38</td>\n",
       "      <td>Nordeste</td>\n",
       "    </tr>\n",
       "    <tr>\n",
       "      <th>4</th>\n",
       "      <td>2022-01-3</td>\n",
       "      <td>Óleo</td>\n",
       "      <td>39</td>\n",
       "      <td>34.65</td>\n",
       "      <td>Nordeste</td>\n",
       "    </tr>\n",
       "  </tbody>\n",
       "</table>\n",
       "</div>"
      ],
      "text/plain": [
       "   data_venda produto  quantidade  valor_unitario    regiao\n",
       "0  2022-01-29   Carne           7           87.91       Sul\n",
       "1  2022-01-14  Feijão          47           62.33     Norte\n",
       "2  2022-01-20  Açúcar          39           77.20  Nordeste\n",
       "3  2022-01-10  Açúcar          47           74.38  Nordeste\n",
       "4   2022-01-3    Óleo          39           34.65  Nordeste"
      ]
     },
     "execution_count": 5,
     "metadata": {},
     "output_type": "execute_result"
    }
   ],
   "source": [
    "df.head()"
   ]
  },
  {
   "cell_type": "code",
   "execution_count": 17,
   "metadata": {},
   "outputs": [
    {
     "data": {
      "text/plain": [
       "0       615\n",
       "1      2929\n",
       "2      3010\n",
       "3      3495\n",
       "4      1351\n",
       "       ... \n",
       "995    3317\n",
       "996    3660\n",
       "997    1078\n",
       "998    4335\n",
       "999     649\n",
       "Length: 1000, dtype: int64"
      ]
     },
     "execution_count": 17,
     "metadata": {},
     "output_type": "execute_result"
    }
   ],
   "source": [
    "total_vendas = df['quantidade']*df['valor_unitario']\n",
    "total_vendas.sum()\n",
    "total_vendas.astype(int)"
   ]
  },
  {
   "cell_type": "code",
   "execution_count": 44,
   "metadata": {},
   "outputs": [
    {
     "data": {
      "text/html": [
       "<div>\n",
       "<style scoped>\n",
       "    .dataframe tbody tr th:only-of-type {\n",
       "        vertical-align: middle;\n",
       "    }\n",
       "\n",
       "    .dataframe tbody tr th {\n",
       "        vertical-align: top;\n",
       "    }\n",
       "\n",
       "    .dataframe thead th {\n",
       "        text-align: right;\n",
       "    }\n",
       "</style>\n",
       "<table border=\"1\" class=\"dataframe\">\n",
       "  <thead>\n",
       "    <tr style=\"text-align: right;\">\n",
       "      <th></th>\n",
       "      <th>data_venda</th>\n",
       "      <th>produto</th>\n",
       "      <th>quantidade</th>\n",
       "      <th>valor_unitario</th>\n",
       "      <th>regiao</th>\n",
       "    </tr>\n",
       "  </thead>\n",
       "  <tbody>\n",
       "    <tr>\n",
       "      <th>0</th>\n",
       "      <td>2022-01-29</td>\n",
       "      <td>Carne</td>\n",
       "      <td>7</td>\n",
       "      <td>87.91</td>\n",
       "      <td>Sul</td>\n",
       "    </tr>\n",
       "    <tr>\n",
       "      <th>16</th>\n",
       "      <td>2022-01-30</td>\n",
       "      <td>Carne</td>\n",
       "      <td>16</td>\n",
       "      <td>12.60</td>\n",
       "      <td>Sul</td>\n",
       "    </tr>\n",
       "    <tr>\n",
       "      <th>30</th>\n",
       "      <td>2022-01-15</td>\n",
       "      <td>Carne</td>\n",
       "      <td>11</td>\n",
       "      <td>52.03</td>\n",
       "      <td>Sul</td>\n",
       "    </tr>\n",
       "    <tr>\n",
       "      <th>49</th>\n",
       "      <td>2022-01-27</td>\n",
       "      <td>Carne</td>\n",
       "      <td>10</td>\n",
       "      <td>39.60</td>\n",
       "      <td>Norte</td>\n",
       "    </tr>\n",
       "    <tr>\n",
       "      <th>64</th>\n",
       "      <td>2022-01-30</td>\n",
       "      <td>Carne</td>\n",
       "      <td>17</td>\n",
       "      <td>18.88</td>\n",
       "      <td>Centro-Oeste</td>\n",
       "    </tr>\n",
       "    <tr>\n",
       "      <th>...</th>\n",
       "      <td>...</td>\n",
       "      <td>...</td>\n",
       "      <td>...</td>\n",
       "      <td>...</td>\n",
       "      <td>...</td>\n",
       "    </tr>\n",
       "    <tr>\n",
       "      <th>942</th>\n",
       "      <td>2022-01-6</td>\n",
       "      <td>Carne</td>\n",
       "      <td>26</td>\n",
       "      <td>85.66</td>\n",
       "      <td>Norte</td>\n",
       "    </tr>\n",
       "    <tr>\n",
       "      <th>949</th>\n",
       "      <td>2022-01-13</td>\n",
       "      <td>Carne</td>\n",
       "      <td>47</td>\n",
       "      <td>45.42</td>\n",
       "      <td>Centro-Oeste</td>\n",
       "    </tr>\n",
       "    <tr>\n",
       "      <th>957</th>\n",
       "      <td>2022-01-1</td>\n",
       "      <td>Carne</td>\n",
       "      <td>24</td>\n",
       "      <td>71.86</td>\n",
       "      <td>Norte</td>\n",
       "    </tr>\n",
       "    <tr>\n",
       "      <th>973</th>\n",
       "      <td>2022-01-28</td>\n",
       "      <td>Carne</td>\n",
       "      <td>47</td>\n",
       "      <td>86.55</td>\n",
       "      <td>Sul</td>\n",
       "    </tr>\n",
       "    <tr>\n",
       "      <th>995</th>\n",
       "      <td>2022-01-21</td>\n",
       "      <td>Carne</td>\n",
       "      <td>39</td>\n",
       "      <td>85.07</td>\n",
       "      <td>Sul</td>\n",
       "    </tr>\n",
       "  </tbody>\n",
       "</table>\n",
       "<p>91 rows × 5 columns</p>\n",
       "</div>"
      ],
      "text/plain": [
       "     data_venda produto  quantidade  valor_unitario        regiao\n",
       "0    2022-01-29   Carne           7           87.91           Sul\n",
       "16   2022-01-30   Carne          16           12.60           Sul\n",
       "30   2022-01-15   Carne          11           52.03           Sul\n",
       "49   2022-01-27   Carne          10           39.60         Norte\n",
       "64   2022-01-30   Carne          17           18.88  Centro-Oeste\n",
       "..          ...     ...         ...             ...           ...\n",
       "942   2022-01-6   Carne          26           85.66         Norte\n",
       "949  2022-01-13   Carne          47           45.42  Centro-Oeste\n",
       "957   2022-01-1   Carne          24           71.86         Norte\n",
       "973  2022-01-28   Carne          47           86.55           Sul\n",
       "995  2022-01-21   Carne          39           85.07           Sul\n",
       "\n",
       "[91 rows x 5 columns]"
      ]
     },
     "execution_count": 44,
     "metadata": {},
     "output_type": "execute_result"
    }
   ],
   "source": [
    "produto = 'Carne'\n",
    "b_produto = df[df[\"produto\"] == produto]\n",
    "b_produto"
   ]
  },
  {
   "cell_type": "code",
   "execution_count": 63,
   "metadata": {},
   "outputs": [
    {
     "name": "stdout",
     "output_type": "stream",
     "text": [
      "A Média das vendas, 25.723\n"
     ]
    }
   ],
   "source": [
    "media_vendas = df['quantidade'].mean()\n",
    "print(\"A Média das vendas,\", media_vendas)"
   ]
  },
  {
   "cell_type": "code",
   "execution_count": 60,
   "metadata": {},
   "outputs": [
    {
     "data": {
      "text/plain": [
       "<Axes: xlabel='regiao'>"
      ]
     },
     "execution_count": 60,
     "metadata": {},
     "output_type": "execute_result"
    },
    {
     "data": {
      "image/png": "[encoded data removed]",
      "text/plain": [
       "<Figure size 640x480 with 1 Axes>"
      ]
     },
     "metadata": {},
     "output_type": "display_data"
    }
   ],
   "source": [
    "df['regiao'].value_counts().plot.bar()"
   ]
  },
  {
   "cell_type": "code",
   "execution_count": 67,
   "metadata": {},
   "outputs": [],
   "source": [
    "df['Total'] = df['quantidade']*df['valor_unitario']"
   ]
  },
  {
   "cell_type": "code",
   "execution_count": 68,
   "metadata": {},
   "outputs": [],
   "source": [
    "df.to_csv(\"Novo-vendas-tratados.csv\", index=False)"
   ]
  },
  {
   "cell_type": "code",
   "execution_count": 70,
   "metadata": {},
   "outputs": [],
   "source": [
    "df.to_excel(\"Novo-vendas-tratados.xlsx\", index=False)"
   ]
  },
  {
   "cell_type": "code",
   "execution_count": 71,
   "metadata": {},
   "outputs": [],
   "source": [
    "df.to_html(\"Novo-vendas-tratados.html\", index=False)"
   ]
  }
 ],
 "metadata": {
  "kernelspec": {
   "display_name": "Python 3",
   "language": "python",
   "name": "python3"
  },
  "language_info": {
   "codemirror_mode": {
    "name": "ipython",
    "version": 3
   },
   "file_extension": ".py",
   "mimetype": "text/x-python",
   "name": "python",
   "nbconvert_exporter": "python",
   "pygments_lexer": "ipython3",
   "version": "3.11.4"
  },
  "orig_nbformat": 4
 },
 "nbformat": 4,
 "nbformat_minor": 2
}
